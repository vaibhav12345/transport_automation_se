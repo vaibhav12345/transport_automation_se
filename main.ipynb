{
 "cells": [
  {
   "cell_type": "code",
   "execution_count": 2,
   "metadata": {},
   "outputs": [],
   "source": [
    "import tkinter as tk"
   ]
  },
  {
   "cell_type": "code",
   "execution_count": 26,
   "metadata": {},
   "outputs": [],
   "source": [
    "class SampleApp(tk.Tk):\n",
    "    def __init__(self):\n",
    "        tk.Tk.__init__(self)\n",
    "        self._frame = None\n",
    "        self.switch_frame(HomePage)\n",
    "\n",
    "    def switch_frame(self, frame_class):\n",
    "        \"\"\"Destroys current frame and replaces it with a new one.\"\"\"\n",
    "        new_frame = frame_class(self)\n",
    "        if self._frame is not None:\n",
    "            self._frame.destroy()\n",
    "        self._frame = new_frame\n",
    "        self._frame.pack()\n",
    "\n",
    "\n",
    "class HomePage(tk.Frame):\n",
    "    def __init__(self, master):\n",
    "        tk.Frame.__init__(self, master)\n",
    "\n",
    "        start_label = tk.Label(self, text=\"Transport Department\\n\")\n",
    "        signup_button = tk.Button(self, text=\"Sign Up\",\n",
    "                                  command=lambda: master.switch_frame(SignUp))\n",
    "        signin_button = tk.Button(self, text=\"Sign In\",\n",
    "                                  command=lambda: master.switch_frame(SignIn))\n",
    "        start_label.pack(side=\"top\", fill=\"x\", pady=10)\n",
    "        signup_button.pack()\n",
    "        signin_button.pack()\n",
    "\n",
    "\n",
    "class SignIn(tk.Frame):\n",
    "    def __init__(self, master):\n",
    "        tk.Frame.__init__(self, master)\n",
    "\n",
    "        start_label = tk.Label(self, text=\"Enter the following credentials\")\n",
    "        \n",
    "        username_label = tk.Label(self, text=\"Username\")\n",
    "        self.username_entry = tk.Entry(self)\n",
    "        password_label = tk.Label(self, text=\"Password\")\n",
    "        self.password_entry = tk.Entry(self,show=\"*\")\n",
    "        start_button = tk.Button(self, text=\"Login\",\n",
    "                                 command=lambda: self.callback(master))\n",
    "        start_label.pack(side=\"top\", fill=\"x\", pady=10)\n",
    "        username_label.pack()\n",
    "        self.username_entry.pack()\n",
    "        password_label.pack()\n",
    "        self.password_entry.pack()\n",
    "        start_button.pack()\n",
    "    def callback(self,master):\n",
    "        print(self.username_entry.get())\n",
    "        print(self.password_entry.get())\n",
    "        master.switch_frame(HomePage)\n",
    "\n",
    "\n",
    "if __name__ == \"__main__\":\n",
    "    app = SampleApp()\n",
    "    app.mainloop()"
   ]
  },
  {
   "cell_type": "code",
   "execution_count": null,
   "metadata": {},
   "outputs": [],
   "source": []
  },
  {
   "cell_type": "code",
   "execution_count": null,
   "metadata": {},
   "outputs": [],
   "source": []
  }
 ],
 "metadata": {
  "kernelspec": {
   "display_name": "Python 3",
   "language": "python",
   "name": "python3"
  },
  "language_info": {
   "codemirror_mode": {
    "name": "ipython",
    "version": 3
   },
   "file_extension": ".py",
   "mimetype": "text/x-python",
   "name": "python",
   "nbconvert_exporter": "python",
   "pygments_lexer": "ipython3",
   "version": "3.5.0"
  }
 },
 "nbformat": 4,
 "nbformat_minor": 2
}
