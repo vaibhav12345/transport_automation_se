{
 "cells": [
  {
   "cell_type": "code",
   "execution_count": 6,
   "metadata": {},
   "outputs": [],
   "source": [
    "from pymongo import MongoClient\n",
    "\n",
    "# pprint library is used to make the output look more pretty\n",
    "\n",
    "from pprint import pprint\n",
    "from random import randint\n",
    "from passlib.context import CryptContext"
   ]
  },
  {
   "cell_type": "code",
   "execution_count": 2,
   "metadata": {},
   "outputs": [],
   "source": [
    "# connect to MongoDB, change the << MONGODB URL >> to reflect your own connection string\n",
    "\n",
    "client = MongoClient(port=27017)\n",
    "\n",
    "db=client.admin\n",
    "\n",
    "# Issue the serverStatus command and print the results\n",
    "\n",
    "serverStatusResult=db.command(\"serverStatus\")\n",
    "\n",
    "#pprint(serverStatusResult)"
   ]
  },
  {
   "cell_type": "code",
   "execution_count": 3,
   "metadata": {},
   "outputs": [],
   "source": [
    "db = client.buisness"
   ]
  },
  {
   "cell_type": "code",
   "execution_count": 38,
   "metadata": {},
   "outputs": [],
   "source": [
    "names = ['Kitchen','Animal','State', 'Tastey', 'Big','City','Fish', 'Pizza','Goat', 'Salty','Sandwich','Lazy', 'Fun']\n",
    "\n",
    "company_type = ['LLC','Inc','Company','Corporation']\n",
    "\n",
    "company_cuisine = ['Pizza', 'Bar Food', 'Fast Food', 'Italian', 'Mexican', 'American', 'Sushi Bar', 'Vegetarian']\n"
   ]
  },
  {
   "cell_type": "code",
   "execution_count": 3,
   "metadata": {},
   "outputs": [],
   "source": [
    "db = client.TransportDept"
   ]
  },
  {
   "cell_type": "code",
   "execution_count": 9,
   "metadata": {},
   "outputs": [],
   "source": [
    "emp =[{\n",
    "    'eid':1,\n",
    "    'FirstName':'Serena',\n",
    "    'MiddleName':\"\",\n",
    "    'LastName':\"Barai\",\n",
    "    'password':'sb',\n",
    "    'mobile':'8373974647',\n",
    "},\n",
    "{\n",
    "    'eid':2,\n",
    "    'FirstName':'Vaibhav',\n",
    "    'MiddleName':\"\",\n",
    "    'LastName':\"Goyal\",\n",
    "    'password':'vg',\n",
    "    'mobile':'9205090571',\n",
    "},\n",
    "{\n",
    "    'eid':3,\n",
    "    'FirstName':'Karmanya',\n",
    "    'MiddleName':\"\",\n",
    "    'LastName':\"Oberoi\",\n",
    "    'password':'ko',\n",
    "    'mobile':'9999691115',\n",
    "},\n",
    "    {\n",
    "    'eid':4,\n",
    "    'FirstName':'Bhavya',\n",
    "    'MiddleName':\"\",\n",
    "    'LastName':\"Bansal\",\n",
    "    'password':'2b',\n",
    "    'mobile':'8896547825',\n",
    "},\n",
    "    {\n",
    "    'eid':5,\n",
    "    'FirstName':'Aastha',\n",
    "    'MiddleName':\"\",\n",
    "    'LastName':\"Agarwal\",\n",
    "    'password':'aa',\n",
    "    'mobile':'789687458',\n",
    "},\n",
    "    {\n",
    "    'eid':6,\n",
    "    'FirstName':'Abhishek',\n",
    "    'MiddleName':\"\",\n",
    "    'LastName':\"Ranjan\",\n",
    "    'password':'ar',\n",
    "    'mobile':'9965458745',\n",
    "}\n",
    "]"
   ]
  },
  {
   "cell_type": "code",
   "execution_count": 10,
   "metadata": {},
   "outputs": [
    {
     "data": {
      "text/plain": [
       "<pymongo.results.InsertManyResult at 0x1cabc209648>"
      ]
     },
     "execution_count": 10,
     "metadata": {},
     "output_type": "execute_result"
    }
   ],
   "source": [
    "db.employee.insert_many(emp)"
   ]
  },
  {
   "cell_type": "code",
   "execution_count": 11,
   "metadata": {},
   "outputs": [],
   "source": [
    "emp=[{\n",
    "    'eid':1,\n",
    "    'Designation':'HOD',\n",
    "    'Department':'Legal',\n",
    "    'Car Type':5\n",
    "},\n",
    "{\n",
    "    'eid':2,\n",
    "    'Designation':'Manager',\n",
    "    'Department':'HR',\n",
    "    'Car Type':4\n",
    "},\n",
    "{\n",
    "    'eid':3,\n",
    "    'Designation':'Engineer',\n",
    "    'Department':'ITS',\n",
    "    'Car Type':3\n",
    "}]"
   ]
  },
  {
   "cell_type": "code",
   "execution_count": 12,
   "metadata": {},
   "outputs": [
    {
     "data": {
      "text/plain": [
       "<pymongo.results.InsertManyResult at 0x1cabc1ffa48>"
      ]
     },
     "execution_count": 12,
     "metadata": {},
     "output_type": "execute_result"
    }
   ],
   "source": [
    "db.regemployee.insert_many(emp)"
   ]
  },
  {
   "cell_type": "code",
   "execution_count": 15,
   "metadata": {},
   "outputs": [],
   "source": [
    "for i in range(1,7):\n",
    "    db.employee.update_one({\"eid\":i},{\"$set\" : {\"calendar\":[]}})"
   ]
  },
  {
   "cell_type": "code",
   "execution_count": 7,
   "metadata": {},
   "outputs": [],
   "source": [
    "pwd_context = CryptContext(schemes=[\"sha512_crypt\"], \n",
    "                           default=\"sha512_crypt\", \n",
    "                           sha512_crypt__default_rounds=45000)"
   ]
  },
  {
   "cell_type": "code",
   "execution_count": 9,
   "metadata": {},
   "outputs": [],
   "source": [
    "for eid in db.employee.distinct('eid'):\n",
    "    emp = db.employee.find_one({'eid':eid})\n",
    "    pwd = emp['password']\n",
    "    db.employee.update_one({'eid':eid},{\"$set\":{\"password\":pwd_context.hash(pwd)}})"
   ]
  },
  {
   "cell_type": "code",
   "execution_count": 15,
   "metadata": {},
   "outputs": [],
   "source": [
    "emp = db.employee.find_one({'eid':1})"
   ]
  },
  {
   "cell_type": "code",
   "execution_count": 18,
   "metadata": {},
   "outputs": [
    {
     "ename": "TypeError",
     "evalue": "'int' object is not subscriptable",
     "output_type": "error",
     "traceback": [
      "\u001b[1;31m---------------------------------------------------------------------------\u001b[0m",
      "\u001b[1;31mTypeError\u001b[0m                                 Traceback (most recent call last)",
      "\u001b[1;32m<ipython-input-18-ed10e80e8716>\u001b[0m in \u001b[0;36m<module>\u001b[1;34m()\u001b[0m\n\u001b[1;32m----> 1\u001b[1;33m \u001b[0mok\u001b[0m \u001b[1;33m=\u001b[0m \u001b[0mpwd_context\u001b[0m\u001b[1;33m.\u001b[0m\u001b[0mverify\u001b[0m\u001b[1;33m(\u001b[0m\u001b[1;34m\"serena\"\u001b[0m\u001b[1;33m,\u001b[0m\u001b[0meid\u001b[0m\u001b[1;33m[\u001b[0m\u001b[1;34m'password'\u001b[0m\u001b[1;33m]\u001b[0m\u001b[1;33m)\u001b[0m\u001b[1;33m\u001b[0m\u001b[0m\n\u001b[0m\u001b[0;32m      2\u001b[0m \u001b[0mok\u001b[0m\u001b[1;33m\u001b[0m\u001b[0m\n",
      "\u001b[1;31mTypeError\u001b[0m: 'int' object is not subscriptable"
     ]
    }
   ],
   "source": [
    "ok = pwd_context.verify(\"serena\",eid['password'])\n",
    "ok"
   ]
  },
  {
   "cell_type": "code",
   "execution_count": null,
   "metadata": {},
   "outputs": [],
   "source": []
  }
 ],
 "metadata": {
  "kernelspec": {
   "display_name": "Python 3",
   "language": "python",
   "name": "python3"
  },
  "language_info": {
   "codemirror_mode": {
    "name": "ipython",
    "version": 3
   },
   "file_extension": ".py",
   "mimetype": "text/x-python",
   "name": "python",
   "nbconvert_exporter": "python",
   "pygments_lexer": "ipython3",
   "version": "3.5.0"
  }
 },
 "nbformat": 4,
 "nbformat_minor": 2
}
