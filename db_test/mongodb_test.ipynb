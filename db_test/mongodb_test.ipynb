{
 "cells": [
  {
   "cell_type": "code",
   "execution_count": 1,
   "metadata": {},
   "outputs": [],
   "source": [
    "from pymongo import MongoClient\n",
    "\n",
    "# pprint library is used to make the output look more pretty\n",
    "\n",
    "from pprint import pprint\n",
    "from random import randint\n",
    "from passlib.context import CryptContext\n",
    "import datetime\n",
    "from dateutil import parser"
   ]
  },
  {
   "cell_type": "code",
   "execution_count": 2,
   "metadata": {},
   "outputs": [],
   "source": [
    "# connect to MongoDB, change the << MONGODB URL >> to reflect your own connection string\n",
    "\n",
    "client = MongoClient(port=27017)\n",
    "\n",
    "db=client.admin\n",
    "\n",
    "# Issue the serverStatus command and print the results\n",
    "\n",
    "serverStatusResult=db.command(\"serverStatus\")\n",
    "\n",
    "#pprint(serverStatusResult)"
   ]
  },
  {
   "cell_type": "code",
   "execution_count": 11,
   "metadata": {},
   "outputs": [],
   "source": [
    "db = client.TransportDept"
   ]
  },
  {
   "cell_type": "code",
   "execution_count": 10,
   "metadata": {},
   "outputs": [],
   "source": [
    "emp =[{\n",
    "    'eid':1,\n",
    "    'FirstName':'Serena',\n",
    "    'MiddleName':\"\",\n",
    "    'LastName':\"Barai\",\n",
    "    'password':'sb',\n",
    "    'mobile':'8373974647',\n",
    "},\n",
    "{\n",
    "    'eid':2,\n",
    "    'FirstName':'Vaibhav',\n",
    "    'MiddleName':\"\",\n",
    "    'LastName':\"Goyal\",\n",
    "    'password':'vg',\n",
    "    'mobile':'9205090571',\n",
    "},\n",
    "{\n",
    "    'eid':3,\n",
    "    'FirstName':'Karmanya',\n",
    "    'MiddleName':\"\",\n",
    "    'LastName':\"Oberoi\",\n",
    "    'password':'ko',\n",
    "    'mobile':'9999691115',\n",
    "},\n",
    "    {\n",
    "    'eid':4,\n",
    "    'FirstName':'Bhavya',\n",
    "    'MiddleName':\"\",\n",
    "    'LastName':\"Bansal\",\n",
    "    'password':'2b',\n",
    "    'mobile':'8896547825',\n",
    "},\n",
    "    {\n",
    "    'eid':5,\n",
    "    'FirstName':'Aastha',\n",
    "    'MiddleName':\"\",\n",
    "    'LastName':\"Agarwal\",\n",
    "    'password':'aa',\n",
    "    'mobile':'789687458',\n",
    "},\n",
    "    {\n",
    "    'eid':6,\n",
    "    'FirstName':'Abhishek',\n",
    "    'MiddleName':\"\",\n",
    "    'LastName':\"Ranjan\",\n",
    "    'password':'ar',\n",
    "    'mobile':'9965458745',\n",
    "}\n",
    "]"
   ]
  },
  {
   "cell_type": "code",
   "execution_count": 11,
   "metadata": {},
   "outputs": [
    {
     "data": {
      "text/plain": [
       "<pymongo.results.InsertManyResult at 0x1d074fbdc88>"
      ]
     },
     "execution_count": 11,
     "metadata": {},
     "output_type": "execute_result"
    }
   ],
   "source": [
    "db.employee.insert_many(emp)"
   ]
  },
  {
   "cell_type": "code",
   "execution_count": 11,
   "metadata": {},
   "outputs": [],
   "source": [
    "emp=[{\n",
    "    'eid':1,\n",
    "    'Designation':'HOD',\n",
    "    'Department':'Legal',\n",
    "    'Car Type':5\n",
    "},\n",
    "{\n",
    "    'eid':2,\n",
    "    'Designation':'Manager',\n",
    "    'Department':'HR',\n",
    "    'Car Type':4\n",
    "},\n",
    "{\n",
    "    'eid':3,\n",
    "    'Designation':'Engineer',\n",
    "    'Department':'ITS',\n",
    "    'Car Type':3\n",
    "}]"
   ]
  },
  {
   "cell_type": "code",
   "execution_count": 12,
   "metadata": {},
   "outputs": [
    {
     "data": {
      "text/plain": [
       "<pymongo.results.InsertManyResult at 0x1cabc1ffa48>"
      ]
     },
     "execution_count": 12,
     "metadata": {},
     "output_type": "execute_result"
    }
   ],
   "source": [
    "db.regemployee.insert_many(emp)"
   ]
  },
  {
   "cell_type": "code",
   "execution_count": 15,
   "metadata": {},
   "outputs": [],
   "source": [
    "for i in range(1,7):\n",
    "    db.employee.update_one({\"eid\":i},{\"$set\" : {\"calendar\":[]}})"
   ]
  },
  {
   "cell_type": "code",
   "execution_count": 12,
   "metadata": {},
   "outputs": [],
   "source": [
    "pwd_context = CryptContext(schemes=[\"sha512_crypt\"], \n",
    "                           default=\"sha512_crypt\", \n",
    "                           sha512_crypt__default_rounds=45000)"
   ]
  },
  {
   "cell_type": "code",
   "execution_count": 13,
   "metadata": {},
   "outputs": [],
   "source": [
    "for eid in db.employee.distinct('eid'):\n",
    "    emp = db.employee.find_one({'eid':eid})\n",
    "    pwd = emp['password']\n",
    "    db.employee.update_one({'eid':eid},{\"$set\":{\"password\":pwd_context.hash(pwd)}})"
   ]
  },
  {
   "cell_type": "code",
   "execution_count": 4,
   "metadata": {},
   "outputs": [],
   "source": [
    "emp = db.employee.find_one({'eid':1})"
   ]
  },
  {
   "cell_type": "code",
   "execution_count": 9,
   "metadata": {},
   "outputs": [
    {
     "data": {
      "text/plain": [
       "True"
      ]
     },
     "execution_count": 9,
     "metadata": {},
     "output_type": "execute_result"
    }
   ],
   "source": [
    "ok = pwd_context.verify(\"sb\",emp['password'])\n",
    "ok"
   ]
  },
  {
   "cell_type": "code",
   "execution_count": 29,
   "metadata": {},
   "outputs": [],
   "source": [
    "drivers = {'eid':6,\n",
    "            'DL No':\"DL1581548982\",\n",
    "            'DL Exp':\"29-12-2024\",\n",
    "            'Monthly Overtime':3,\n",
    "            'Calendar':[]}"
   ]
  },
  {
   "cell_type": "code",
   "execution_count": 30,
   "metadata": {},
   "outputs": [
    {
     "data": {
      "text/plain": [
       "<pymongo.results.InsertOneResult at 0x1d074fed5c8>"
      ]
     },
     "execution_count": 30,
     "metadata": {},
     "output_type": "execute_result"
    }
   ],
   "source": [
    "db.driver.insert_one(drivers)"
   ]
  },
  {
   "cell_type": "code",
   "execution_count": 38,
   "metadata": {},
   "outputs": [],
   "source": [
    "cars = [{'Reg No':4785625874,\n",
    "         'Model':\"Honda CRV\",\n",
    "         'Next Service':\"24-5-2018\",\n",
    "         'Insurance Id':1697454587,\n",
    "         'Insurace Payment Date':\"25-12-2018\",\n",
    "         'Insurance Expiry Date':\"4-3-2019\",\n",
    "         'Distance After Last Service':244,\n",
    "         'Total Distance':65423,\n",
    "         'Calendar':[\"5-5-2018#11\",\"5-5-2018#12\",\"5-5-2018#13\",\"7-5-2018#8\",\"7-5-2018#9\"],\n",
    "         'Car Type':3,\n",
    "         'Fuel Level':0.75,\n",
    "         'No Of Seats':7\n",
    "    \n",
    "},\n",
    "       {'Reg No':8785715874,\n",
    "         'Model':\"Suzuki Swift\",\n",
    "         'Next Service':\"14-6-2018\",\n",
    "         'Insurance Id':6985454587,\n",
    "         'Insurace Payment Date':\"10-10-2018\",\n",
    "         'Insurance Expiry Date':\"14-7-2019\",\n",
    "         'Distance After Last Service':127,\n",
    "         'Total Distance':165423,\n",
    "         'Calendar':[\"8-5-2018#17\"],\n",
    "         'Car Type':2,\n",
    "         'Fuel Level':0.5,\n",
    "         'No Of Seats':4\n",
    "    \n",
    "},\n",
    "       {'Reg No':9985715874,\n",
    "         'Model':\"Mercedes Benz\",\n",
    "         'Next Service':\"19-9-2018\",\n",
    "         'Insurance Id':6985364587,\n",
    "         'Insurace Payment Date':\"11-1-2019\",\n",
    "         'Insurance Expiry Date':\"14-7-2019\",\n",
    "         'Distance After Last Service':35,\n",
    "         'Total Distance':7623,\n",
    "         'Calendar':[\"2-5-2018#19\",\"2-5-2018#20\",\"2-5-2018#21\"],\n",
    "         'Car Type':4,\n",
    "         'Fuel Level':0.5,\n",
    "         'No Of Seats':4\n",
    "    \n",
    "},\n",
    "       {'Reg No':9985713674,\n",
    "         'Model':\"BMW X5\",\n",
    "         'Next Service':\"15-5-2018\",\n",
    "         'Insurance Id':7785364587,\n",
    "         'Insurace Payment Date':\"11-6-2018\",\n",
    "         'Insurance Expiry Date':\"16-8-2019\",\n",
    "         'Distance After Last Service':365,\n",
    "         'Total Distance':15423,\n",
    "         'Calendar':[],\n",
    "         'Car Type':5,\n",
    "         'Fuel Level':0.25,\n",
    "         'No Of Seats':5\n",
    "    \n",
    "}]"
   ]
  },
  {
   "cell_type": "code",
   "execution_count": 35,
   "metadata": {},
   "outputs": [],
   "source": [
    "dt = parser.parse(\"4-5-2017\")"
   ]
  },
  {
   "cell_type": "code",
   "execution_count": 39,
   "metadata": {
    "scrolled": true
   },
   "outputs": [
    {
     "data": {
      "text/plain": [
       "<pymongo.results.InsertManyResult at 0x1d07518a308>"
      ]
     },
     "execution_count": 39,
     "metadata": {},
     "output_type": "execute_result"
    }
   ],
   "source": [
    "db.cars.insert_many(cars)"
   ]
  },
  {
   "cell_type": "code",
   "execution_count": 40,
   "metadata": {},
   "outputs": [],
   "source": [
    "#car maintenace ek 1hr waali aur ek 2 hr waali\n",
    "carhire=[{'Car Reg No':4785625874,\n",
    "          'Date Time':\"5-5-2018#11\",\n",
    "          'Driver Eid':4,\n",
    "          'Employee Eid':1,\n",
    "          'Reason of Hire':\"Meeting with client ABC\",\n",
    "          'Fuel Consumed':\"\",\n",
    "          'Expenditure':\"\",\n",
    "          'Distance':15,\n",
    "          'Destination':\"Pritampura\",\n",
    "          'No of People':6,\n",
    "          'Hire Time':3,\n",
    "          'Waiting Time':0\n",
    "    \n",
    "},\n",
    "        {'Car Reg No':9985715874,\n",
    "          'Date Time':\"2-5-2018#19\",\n",
    "          'Driver Eid':5,\n",
    "          'Employee Eid':2,\n",
    "          'Reason of Hire':\"Meeting with client XYZ\",\n",
    "          'Fuel Consumed':\"\",\n",
    "          'Expenditure':\"\",\n",
    "          'Distance':27,\n",
    "          'Destination':\"Dwarka\",\n",
    "          'No of People':2,\n",
    "          'Hire Time':3,\n",
    "          'Waiting Time':0\n",
    "    \n",
    "}]"
   ]
  },
  {
   "cell_type": "code",
   "execution_count": 41,
   "metadata": {},
   "outputs": [
    {
     "data": {
      "text/plain": [
       "<pymongo.results.InsertManyResult at 0x1d075010848>"
      ]
     },
     "execution_count": 41,
     "metadata": {},
     "output_type": "execute_result"
    }
   ],
   "source": [
    "db.carhire.insert_many(carhire)"
   ]
  },
  {
   "cell_type": "code",
   "execution_count": 43,
   "metadata": {},
   "outputs": [],
   "source": [
    "carmaintain = [{'Driver Eid':6,\n",
    "                'Car Reg No':4785625874,\n",
    "                'Expenditure':\"\",\n",
    "                'Type':'Painting',\n",
    "                'Date Time':\"7-5-2018#8\"\n",
    "    \n",
    "},\n",
    "              {'Driver Eid':6,\n",
    "                'Car Reg No':4785625874,\n",
    "                'Expenditure':\"\",\n",
    "                'Type':'Painting',\n",
    "                'Date Time':\"7-5-2018#9\"\n",
    "    \n",
    "},\n",
    "              {'Driver Eid':5,\n",
    "                'Car Reg No':8785715874,\n",
    "                'Expenditure':\"\",\n",
    "                'Type':'Painting',\n",
    "                'Date Time':\"8-5-2018#17\"\n",
    "    \n",
    "}]"
   ]
  },
  {
   "cell_type": "code",
   "execution_count": 44,
   "metadata": {},
   "outputs": [
    {
     "data": {
      "text/plain": [
       "<pymongo.results.InsertManyResult at 0x1d075390c88>"
      ]
     },
     "execution_count": 44,
     "metadata": {},
     "output_type": "execute_result"
    }
   ],
   "source": [
    "db.maintenance.insert_many(carmaintain)"
   ]
  },
  {
   "cell_type": "code",
   "execution_count": 49,
   "metadata": {},
   "outputs": [
    {
     "data": {
      "text/plain": [
       "<pymongo.results.UpdateResult at 0x1d07536ea08>"
      ]
     },
     "execution_count": 49,
     "metadata": {},
     "output_type": "execute_result"
    }
   ],
   "source": [
    "db.driver.update_one({'eid': 4}, {'$set': {'Calendar': [\"5-5-2018#11\",\"5-5-2018#12\",\"5-5-2018#13\"]}})"
   ]
  },
  {
   "cell_type": "code",
   "execution_count": null,
   "metadata": {},
   "outputs": [],
   "source": [
    "#push an entry to calendar array\n",
    "#db.driver.update_one({'eid': eid}, {'$push': {'Calendar': new_tag}})"
   ]
  },
  {
   "cell_type": "code",
   "execution_count": 48,
   "metadata": {},
   "outputs": [
    {
     "data": {
      "text/plain": [
       "<pymongo.results.UpdateResult at 0x1d075492a48>"
      ]
     },
     "execution_count": 48,
     "metadata": {},
     "output_type": "execute_result"
    }
   ],
   "source": [
    "db.driver.update_one({'eid': 4}, {'$unset': {'Calendar':\"\"}})"
   ]
  },
  {
   "cell_type": "code",
   "execution_count": 50,
   "metadata": {},
   "outputs": [
    {
     "data": {
      "text/plain": [
       "<pymongo.results.UpdateResult at 0x1d07536e488>"
      ]
     },
     "execution_count": 50,
     "metadata": {},
     "output_type": "execute_result"
    }
   ],
   "source": [
    "db.driver.update_one({'eid': 5}, {'$set': {'Calendar': [\"2-5-2018#19\",\"2-5-2018#20\",\"2-5-2018#21\"]}})"
   ]
  },
  {
   "cell_type": "code",
   "execution_count": 51,
   "metadata": {},
   "outputs": [
    {
     "data": {
      "text/plain": [
       "<pymongo.results.UpdateResult at 0x1d07536eec8>"
      ]
     },
     "execution_count": 51,
     "metadata": {},
     "output_type": "execute_result"
    }
   ],
   "source": [
    "db.driver.update_one({'eid': 5}, {'$push': {'Calendar':\"8-5-2018#17\"}})"
   ]
  },
  {
   "cell_type": "code",
   "execution_count": 52,
   "metadata": {},
   "outputs": [
    {
     "data": {
      "text/plain": [
       "<pymongo.results.UpdateResult at 0x1d075396ac8>"
      ]
     },
     "execution_count": 52,
     "metadata": {},
     "output_type": "execute_result"
    }
   ],
   "source": [
    "db.driver.update_one({'eid': 6}, {'$set': {'Calendar': [\"7-5-2018#8\",\"7-5-2018#9\"]}})"
   ]
  },
  {
   "cell_type": "code",
   "execution_count": 39,
   "metadata": {},
   "outputs": [
    {
     "data": {
      "text/plain": [
       "<pymongo.results.UpdateResult at 0x1aac00a9bc8>"
      ]
     },
     "execution_count": 39,
     "metadata": {},
     "output_type": "execute_result"
    }
   ],
   "source": [
    "#5.5 hours more is show as entry in db but correct value is extracted from db\n",
    "ch = db.carhire.find_one({'Driver Eid':5})\n",
    "ch_date = parser.parse(ch['Date Time'].split('#')[0],dayfirst=True)\n",
    "ch_date = ch_date + datetime.timedelta(hours=int(ch['Date Time'].split('#')[1]))\n",
    "db.carhire.update_one({'Driver Eid':5},{\"$set\":{'Date Time':ch_date}})"
   ]
  },
  {
   "cell_type": "code",
   "execution_count": 47,
   "metadata": {},
   "outputs": [],
   "source": [
    "for i in db.cars.distinct('_id'):\n",
    "    cr = db.cars.find_one({'_id':i})\n",
    "    cal = []\n",
    "    for j in cr['Calendar']:\n",
    "        ch_date = parser.parse(j.split('#')[0],dayfirst=True)\n",
    "        ch_date = ch_date + datetime.timedelta(hours=int(j.split('#')[1]))\n",
    "        cal.append(ch_date)\n",
    "    db.cars.update_one({'_id':i},{\"$set\":{'Calendar':cal}})"
   ]
  },
  {
   "cell_type": "code",
   "execution_count": 48,
   "metadata": {},
   "outputs": [],
   "source": [
    "for i in db.driver.distinct('_id'):\n",
    "    cr = db.driver.find_one({'_id':i})\n",
    "    cal = []\n",
    "    for j in cr['Calendar']:\n",
    "        ch_date = parser.parse(j.split('#')[0],dayfirst=True)\n",
    "        ch_date = ch_date + datetime.timedelta(hours=int(j.split('#')[1]))\n",
    "        cal.append(ch_date)\n",
    "    db.driver.update_one({'_id':i},{\"$set\":{'Calendar':cal}})"
   ]
  },
  {
   "cell_type": "code",
   "execution_count": 49,
   "metadata": {},
   "outputs": [],
   "source": [
    "for i in db.maintenance.distinct('_id'):\n",
    "    cr = db.maintenance.find_one({'_id':i})\n",
    "    j = cr['Date Time']\n",
    "    ch_date = parser.parse(j.split('#')[0],dayfirst=True)\n",
    "    ch_date = ch_date + datetime.timedelta(hours=int(j.split('#')[1]))\n",
    "    db.maintenance.update_one({'_id':i},{\"$set\":{'Date Time':ch_date}})"
   ]
  },
  {
   "cell_type": "code",
   "execution_count": null,
   "metadata": {},
   "outputs": [],
   "source": []
  }
 ],
 "metadata": {
  "kernelspec": {
   "display_name": "Python 3",
   "language": "python",
   "name": "python3"
  },
  "language_info": {
   "codemirror_mode": {
    "name": "ipython",
    "version": 3
   },
   "file_extension": ".py",
   "mimetype": "text/x-python",
   "name": "python",
   "nbconvert_exporter": "python",
   "pygments_lexer": "ipython3",
   "version": "3.5.0"
  }
 },
 "nbformat": 4,
 "nbformat_minor": 2
}
