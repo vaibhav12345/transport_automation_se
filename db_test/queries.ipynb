{
 "cells": [
  {
   "cell_type": "code",
   "execution_count": 1,
   "metadata": {},
   "outputs": [],
   "source": [
    "from pymongo import MongoClient\n",
    "from passlib.context import CryptContext\n",
    "import datetime\n",
    "from pprint import pprint\n",
    "from dateutil import parser"
   ]
  },
  {
   "cell_type": "code",
   "execution_count": 2,
   "metadata": {},
   "outputs": [],
   "source": [
    "client = MongoClient(port=27017)\n",
    "db = client.TransportDept\n",
    "pwd_context = CryptContext(schemes=[\"sha512_crypt\"], \n",
    "                           default=\"sha512_crypt\", \n",
    "                           sha512_crypt__default_rounds=45000)"
   ]
  },
  {
   "cell_type": "code",
   "execution_count": 36,
   "metadata": {},
   "outputs": [],
   "source": [
    "#Find bookings of next n days\n",
    "def retrive_next_week_booking(eid,day):\n",
    "    booking_next_week=[]\n",
    "    max_date = datetime.datetime.now().date()+datetime.timedelta(days=day)\n",
    "    for bk in db.carhire.find({'Employee Eid':eid}):\n",
    "        bk_date = bk['Date Time'].date()\n",
    "        if bk_date<=max_date:\n",
    "            booking_next_week.append(bk['_id'])\n",
    "    \n",
    "    return booking_next_week"
   ]
  },
  {
   "cell_type": "code",
   "execution_count": 49,
   "metadata": {},
   "outputs": [],
   "source": [
    "#Find details of current trip\n",
    "def retrive_cur_trip_details(eid):\n",
    "    details={}\n",
    "    cur_time = datetime.datetime.now()\n",
    "    for bk in db.carhire.find({'Employee Eid':eid}):\n",
    "        bk_date = bk['Date Time'].date()\n",
    "        hr = bk['Date Time'].hour\n",
    "        #Get current booking\n",
    "        if(bk_date==cur_time.date()) and (hr==cur_time.hour):\n",
    "        #if True:\n",
    "            details['Car Reg No'] = bk['Car Reg No']\n",
    "            \n",
    "            driver = db.employee.find_one({'eid':bk['Driver Eid']})\n",
    "            \n",
    "            if driver['MiddleName']==\"\":\n",
    "                details['Driver Name']=driver['FirstName'] + \" \" + driver['LastName']\n",
    "            else:\n",
    "                details['Driver Name']=driver['FirstName'] + \" \" + driver['MiddleName'] + \" \" + driver['LastName']\n",
    "            \n",
    "            details['Driver Mobile'] = driver['mobile']\n",
    "    \n",
    "    return details\n",
    "            "
   ]
  },
  {
   "cell_type": "code",
   "execution_count": 52,
   "metadata": {},
   "outputs": [
    {
     "data": {
      "text/plain": [
       "{'Car Reg No': 9985715874,\n",
       " 'Driver Mobile': '789687458',\n",
       " 'Driver Name': 'Aastha Agarwal'}"
      ]
     },
     "execution_count": 52,
     "metadata": {},
     "output_type": "execute_result"
    }
   ],
   "source": [
    "retrive_cur_trip_details(2)"
   ]
  },
  {
   "cell_type": "code",
   "execution_count": 17,
   "metadata": {},
   "outputs": [],
   "source": [
    "#Cancel booking for a particular date\n",
    "#display bookings get bkid\n",
    "def cancel_one_booking(eid,date):\n",
    "    bookings=[]\n",
    "    for bk in db.carhire.find({'Employee Eid':eid,'Date Time':date}):\n",
    "        bookings.append(bk['_id'])\n",
    "    \n",
    "    return bookings"
   ]
  },
  {
   "cell_type": "code",
   "execution_count": 23,
   "metadata": {},
   "outputs": [],
   "source": [
    "#increase booking by some time(1hr,2hr,3hr..)\n",
    "#check if driver is free and car is free\n",
    "#display all bookings to user and get preferred booking's id\n",
    "def increase_booking_time(bkid,time):\n",
    "    curbk = db.carhire.find_one({'_id':bkid})\n",
    "    driver = db.driver.find_one({'eid':curbk['Driver Eid']})\n",
    "    #check if driver is free\n",
    "    for i in range(time):#0 index cause time is one hour is counted as say 11-12 entry has 11\n",
    "        if (curbk['Date Time'] + datetime.timedelta(hours=curbk['Hire Time']+i) in driver['Calendar']):\n",
    "            return False\n",
    "           \n",
    "    #check if car is free\n",
    "    car = db.cars.find_one({'Reg No':curbk['Car Reg No']})\n",
    "    for i in range(time):#0 index cause time is one hour is counted as say 11-12 entry has 11\n",
    "        if (curbk['Date Time'] + datetime.timedelta(hours=curbk['Hire Time']+i) in car['Calendar']):\n",
    "            return False\n",
    "    #update carhire,driver and car db\n",
    "    for i in range(time):#0 index cause time is one hour is counted as say 11-12 entry has 11\n",
    "        db.driver.update_one({'eid': driver['eid']}, {'$push': {'Calendar':curbk['Date Time'] + datetime.timedelta(hours=curbk['Hire Time']+i)}})\n",
    "        db.cars.update_one({'Reg No': car['Reg No']}, {'$push': {'Calendar':curbk['Date Time'] + datetime.timedelta(hours=curbk['Hire Time']+i)}})\n",
    "    \n",
    "    db.carhire.update_one({'_id': bkid}, {'$set': {'Hire Time':curbk['Hire Time']+time}})\n",
    "    \n",
    "    return True"
   ]
  }
 ],
 "metadata": {
  "kernelspec": {
   "display_name": "Python 3",
   "language": "python",
   "name": "python3"
  },
  "language_info": {
   "codemirror_mode": {
    "name": "ipython",
    "version": 3
   },
   "file_extension": ".py",
   "mimetype": "text/x-python",
   "name": "python",
   "nbconvert_exporter": "python",
   "pygments_lexer": "ipython3",
   "version": "3.5.0"
  }
 },
 "nbformat": 4,
 "nbformat_minor": 2
}
