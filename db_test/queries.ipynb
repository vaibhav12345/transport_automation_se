{
 "cells": [
  {
   "cell_type": "code",
   "execution_count": 19,
   "metadata": {},
   "outputs": [],
   "source": [
    "from pymongo import MongoClient\n",
    "from passlib.context import CryptContext\n",
    "import datetime\n",
    "from pprint import pprint\n",
    "from dateutil import parser"
   ]
  },
  {
   "cell_type": "code",
   "execution_count": 2,
   "metadata": {},
   "outputs": [],
   "source": [
    "client = MongoClient(port=27017)\n",
    "db = client.TransportDept\n",
    "pwd_context = CryptContext(schemes=[\"sha512_crypt\"], \n",
    "                           default=\"sha512_crypt\", \n",
    "                           sha512_crypt__default_rounds=45000)"
   ]
  },
  {
   "cell_type": "code",
   "execution_count": 166,
   "metadata": {},
   "outputs": [],
   "source": [
    "#Find bookings of next week\n",
    "def retrive_next_week_booking(eid):\n",
    "    booking_next_week=[]\n",
    "    max_date = datetime.datetime.now()+datetime.timedelta(days=10)\n",
    "    for bk in db.carhire.find({'Employee Eid':eid}):\n",
    "        bk_date = parser.parse(bk['Date Time'].split('#')[0],dayfirst=True)\n",
    "        if bk_date<=max_date:\n",
    "            booking_next_week.append(bk['_id'])\n",
    "    \n",
    "    return booking_next_week"
   ]
  },
  {
   "cell_type": "code",
   "execution_count": 188,
   "metadata": {},
   "outputs": [],
   "source": [
    "#Find details of current trip\n",
    "def retrive_cur_trip_details(eid):\n",
    "    details={}\n",
    "    cur_time = datetime.datetime.now()\n",
    "    for bk in db.carhire.find({'Employee Eid':eid}):\n",
    "        bk_date = parser.parse(bk['Date Time'].split('#')[0],dayfirst=True)\n",
    "        hr = bk['Date Time'].split('#')[1]\n",
    "        #Get current booking\n",
    "        if(bk_date.date()==cur_time.date()) and (hr==cur_time.hour()):\n",
    "        #if True:\n",
    "            details['Car Reg No'] = bk['Car Reg No']\n",
    "            \n",
    "            driver = db.employee.find_one({'eid':bk['Driver Eid']})\n",
    "            \n",
    "            if driver['MiddleName']==\"\":\n",
    "                details['Driver Name']=driver['FirstName'] + \" \" + driver['LastName']\n",
    "            else:\n",
    "                details['Driver Name']=driver['FirstName'] + \" \" + driver['MiddleName'] + \" \" + driver['LastName']\n",
    "            \n",
    "            details['Driver Mobile'] = driver['mobile']\n",
    "    \n",
    "    return details\n",
    "            "
   ]
  },
  {
   "cell_type": "code",
   "execution_count": 191,
   "metadata": {},
   "outputs": [
    {
     "data": {
      "text/plain": [
       "{'Car Reg No': 9985715874,\n",
       " 'Driver Mobile': '789687458',\n",
       " 'Driver Name': 'Aastha Agarwal'}"
      ]
     },
     "execution_count": 191,
     "metadata": {},
     "output_type": "execute_result"
    }
   ],
   "source": [
    "retrive_cur_trip_details(2)"
   ]
  }
 ],
 "metadata": {
  "kernelspec": {
   "display_name": "Python 3",
   "language": "python",
   "name": "python3"
  },
  "language_info": {
   "codemirror_mode": {
    "name": "ipython",
    "version": 3
   },
   "file_extension": ".py",
   "mimetype": "text/x-python",
   "name": "python",
   "nbconvert_exporter": "python",
   "pygments_lexer": "ipython3",
   "version": "3.5.0"
  }
 },
 "nbformat": 4,
 "nbformat_minor": 2
}
