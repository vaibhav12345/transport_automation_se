{
 "cells": [
  {
   "cell_type": "code",
   "execution_count": 1,
   "metadata": {},
   "outputs": [],
   "source": [
    "from pymongo import MongoClient\n",
    "from passlib.context import CryptContext\n",
    "import datetime\n",
    "from pprint import pprint\n",
    "from dateutil import parser"
   ]
  },
  {
   "cell_type": "code",
   "execution_count": 2,
   "metadata": {},
   "outputs": [],
   "source": [
    "client = MongoClient(port=27017)\n",
    "db = client.TransportDept\n",
    "pwd_context = CryptContext(schemes=[\"sha512_crypt\"], \n",
    "                           default=\"sha512_crypt\", \n",
    "                           sha512_crypt__default_rounds=45000)"
   ]
  },
  {
   "cell_type": "code",
   "execution_count": 8,
   "metadata": {},
   "outputs": [],
   "source": [
    "#Find bookings of next n days\n",
    "def retrive_next_week_booking(eid,day):\n",
    "    booking_next_week=[]\n",
    "    max_date = datetime.datetime.now().date()+datetime.timedelta(days=day)\n",
    "    for bk in db.carhire.find({'Employee Eid':eid}):\n",
    "        bk_date = bk['Date Time'].date()\n",
    "        if bk_date<=max_date:\n",
    "            booking_next_week.append(bk)\n",
    "    \n",
    "    return booking_next_week"
   ]
  },
  {
   "cell_type": "code",
   "execution_count": 4,
   "metadata": {},
   "outputs": [],
   "source": [
    "#Find details of current trip\n",
    "def retrive_cur_trip_details(eid):\n",
    "    details={}\n",
    "    cur_time = datetime.datetime.now()\n",
    "    for bk in db.carhire.find({'Employee Eid':eid}):\n",
    "        bk_date = bk['Date Time'].date()\n",
    "        hr = []\n",
    "        for i in range(bk['Hire Time']):\n",
    "            hr.append(bk['Date Time'].hour + i)\n",
    "            \n",
    "        #Get current booking                \n",
    "        if(bk_date==cur_time.date()) and (cur_time.hour in hr):\n",
    "        #if True:\n",
    "            details['Car Reg No'] = bk['Car Reg No']\n",
    "            \n",
    "            driver = db.employee.find_one({'eid':bk['Driver Eid']})\n",
    "            \n",
    "            if driver['MiddleName']==\"\":\n",
    "                details['Driver Name']=driver['FirstName'] + \" \" + driver['LastName']\n",
    "            else:\n",
    "                details['Driver Name']=driver['FirstName'] + \" \" + driver['MiddleName'] + \" \" + driver['LastName']\n",
    "            \n",
    "            details['Driver Mobile'] = driver['mobile']\n",
    "    \n",
    "    return details\n",
    "            "
   ]
  },
  {
   "cell_type": "code",
   "execution_count": 5,
   "metadata": {},
   "outputs": [
    {
     "data": {
      "text/plain": [
       "{}"
      ]
     },
     "execution_count": 5,
     "metadata": {},
     "output_type": "execute_result"
    }
   ],
   "source": [
    "retrive_cur_trip_details(2)"
   ]
  },
  {
   "cell_type": "code",
   "execution_count": 6,
   "metadata": {},
   "outputs": [],
   "source": [
    "#Cancel booking for a particular date\n",
    "#display bookings get bkid\n",
    "def cancel_one_booking(bid):\n",
    "    bk = db.carhire.find_one({'_id':bid})\n",
    "    for i in range(bk['Hire Time']):\n",
    "        dt = bk['Date Time']+datetime.timedelta(hours=i)\n",
    "        db.driver.update_one({'eid':bk['Driver Eid']},{'$pull':{'Calendar':dt}})\n",
    "        db.cars.update_one({'Reg No':bk['Car Reg No']},{'$pull':{'Calendar':dt}})\n",
    "    db.carhire.delete_one({'_id':bid})"
   ]
  },
  {
   "cell_type": "code",
   "execution_count": 7,
   "metadata": {},
   "outputs": [],
   "source": [
    "#increase booking by some time(1hr,2hr,3hr..)\n",
    "#check if driver is free and car is free\n",
    "#display all bookings to user and get preferred booking's id\n",
    "def increase_booking_time(bkid,time):\n",
    "    curbk = db.carhire.find_one({'_id':bkid})\n",
    "    driver = db.driver.find_one({'eid':curbk['Driver Eid']})\n",
    "    #check if driver is free\n",
    "    for i in range(time):#0 index cause time is one hour is counted as say 11-12 entry has 11\n",
    "        if (curbk['Date Time'] + datetime.timedelta(hours=curbk['Hire Time']+i) in driver['Calendar']):\n",
    "            return False\n",
    "           \n",
    "    #check if car is free\n",
    "    car = db.cars.find_one({'Reg No':curbk['Car Reg No']})\n",
    "    for i in range(time):#0 index cause time is one hour is counted as say 11-12 entry has 11\n",
    "        if (curbk['Date Time'] + datetime.timedelta(hours=curbk['Hire Time']+i) in car['Calendar']):\n",
    "            return False\n",
    "    #update carhire,driver and car db\n",
    "    for i in range(time):#0 index cause time is one hour is counted as say 11-12 entry has 11\n",
    "        db.driver.update_one({'eid': driver['eid']}, {'$push': {'Calendar':curbk['Date Time'] + datetime.timedelta(hours=curbk['Hire Time']+i)}})\n",
    "        db.cars.update_one({'Reg No': car['Reg No']}, {'$push': {'Calendar':curbk['Date Time'] + datetime.timedelta(hours=curbk['Hire Time']+i)}})\n",
    "    \n",
    "    db.carhire.update_one({'_id': bkid}, {'$set': {'Hire Time':curbk['Hire Time']+time}})\n",
    "    \n",
    "    return True"
   ]
  },
  {
   "cell_type": "code",
   "execution_count": 13,
   "metadata": {},
   "outputs": [],
   "source": [
    "#create a new booking\n",
    "def create_new_booking(date,no_people,eid,hiretime,destination,distance,waitingtime,reasonhire,cartype):\n",
    "    if cartype>db.regemployee.find_one({'eid':eid})['Car Type']:\n",
    "        return \"You dont have authorization to book this car type\"\n",
    "    if hiretime<=0:\n",
    "        return \"Hire Time cannot be 0 or less than 0\"\n",
    "    if date<=datetime.datetime.now():\n",
    "        return \"Incorrect Date Time entered\"\n",
    "    car_av = db.cars.find({'Car Type':cartype})\n",
    "    car_for_booking=0\n",
    "    for c in car_av:\n",
    "        if c['No Of Seats']<no_people:\n",
    "            continue\n",
    "        flag = True\n",
    "        for i in range(hiretime):#0 index cause time is one hour is counted as say 11-12 entry has 11\n",
    "            if (date + datetime.timedelta(hours=date.hour+i) in c['Calendar']):\n",
    "                flag=False\n",
    "                break\n",
    "        if flag==True:\n",
    "            car_for_booking=c\n",
    "            break\n",
    "    \n",
    "    if car_for_booking==0:\n",
    "        return \"Car not available\"\n",
    "    \n",
    "    driver_available=0\n",
    "    for d in db.driver.find():\n",
    "        flag=True\n",
    "        for i in range(hiretime):#0 index cause time is one hour is counted as say 11-12 entry has 11\n",
    "            if (date + datetime.timedelta(hours=date.hour+i) in d['Calendar']):\n",
    "                flag=False\n",
    "                break\n",
    "        if(flag==True):\n",
    "            driver_available=d\n",
    "            break\n",
    "    \n",
    "    if driver_available==0:\n",
    "        return \"No drivers are available for this time\"\n",
    "    \n",
    "    #update cars,driver and carhiredb\n",
    "    for i in range(hiretime):#0 index cause time is one hour is counted as say 11-12 entry has 11\n",
    "        db.driver.update_one({'eid': driver_available['eid']}, {'$push': {'Calendar':date + datetime.timedelta(hours=i)}})\n",
    "        db.cars.update_one({'Reg No': car_for_booking['Reg No']}, {'$push': {'Calendar':date + datetime.timedelta(hours=i)}})\n",
    "        \n",
    "    car_hire = {'Car Reg No':car_for_booking['Reg No'],\n",
    "          'Date Time':date,\n",
    "          'Driver Eid':driver_available['eid'],\n",
    "          'Employee Eid':eid,\n",
    "          'Reason of Hire':reasonhire,\n",
    "          'Fuel Consumed':\"\",\n",
    "          'Expenditure':\"\",\n",
    "          'Distance':distance,\n",
    "          'Destination':destination,\n",
    "          'No of People':no_people,\n",
    "          'Hire Time':hiretime,\n",
    "          'Waiting Time':0,\n",
    "          'Approved':1}\n",
    "    \n",
    "    db.carhire.insert_one(car_hire)\n",
    "    return \"Trip Created\""
   ]
  }
 ],
 "metadata": {
  "kernelspec": {
   "display_name": "Python 3",
   "language": "python",
   "name": "python3"
  },
  "language_info": {
   "codemirror_mode": {
    "name": "ipython",
    "version": 3
   },
   "file_extension": ".py",
   "mimetype": "text/x-python",
   "name": "python",
   "nbconvert_exporter": "python",
   "pygments_lexer": "ipython3",
   "version": "3.5.0"
  }
 },
 "nbformat": 4,
 "nbformat_minor": 2
}
